{
 "cells": [
  {
   "cell_type": "markdown",
   "metadata": {},
   "source": [
    "## 快速开始 PyTorch"
   ]
  },
  {
   "cell_type": "markdown",
   "metadata": {},
   "source": [
    "### 1. 基础知识\n",
    "大多数机器学习工作流都涉及到处理数据、创建模型、优化模型参数以及保存训练好的模型, 本文档用于记录如何在PyTorch中实现完整的机器学习工作流, 并提供了相关概念的学习链接\n",
    "\n",
    "使用 **FashionMNIST** 数据集来训练一个神经网络, 该网络可以预测输入图像属于以下哪个类别: T恤/上衣、裤子、套衫、连衣裙、外套、凉鞋、衬衫、运动鞋、包或踝靴\n"
   ]
  },
  {
   "cell_type": "code",
   "execution_count": null,
   "metadata": {},
   "outputs": [],
   "source": []
  }
 ],
 "metadata": {
  "language_info": {
   "name": "python"
  }
 },
 "nbformat": 4,
 "nbformat_minor": 2
}
