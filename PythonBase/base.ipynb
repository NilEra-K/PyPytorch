{
 "cells": [
  {
   "cell_type": "markdown",
   "metadata": {},
   "source": [
    "## Python 快速复习"
   ]
  },
  {
   "cell_type": "markdown",
   "metadata": {},
   "source": [
    "## 变量和运算符"
   ]
  },
  {
   "cell_type": "markdown",
   "metadata": {},
   "source": [
    "### 1. 复习常用的变量类型\n",
    "常见的数据类型有数字类型、字符串类型、元组类型、字典类型、集合类型和列表类型"
   ]
  },
  {
   "cell_type": "code",
   "execution_count": 4,
   "metadata": {},
   "outputs": [],
   "source": [
    "# 常见的数字类型有: 整数、浮点数, 布尔值属于整数的子类型\n",
    "a = 1     #整数\n",
    "b = 1.1   #浮点数\n",
    "c = True  #布尔型"
   ]
  },
  {
   "cell_type": "code",
   "execution_count": 5,
   "metadata": {},
   "outputs": [
    {
     "data": {
      "text/plain": [
       "'nilera'"
      ]
     },
     "execution_count": 5,
     "metadata": {},
     "output_type": "execute_result"
    }
   ],
   "source": [
    "# Python 中字符串可以用单引号, 也可以用双引号表示\n",
    "name_1 = \"nilera\"\n",
    "name_2 = 'NilEra'\n",
    "name_1"
   ]
  },
  {
   "cell_type": "code",
   "execution_count": 13,
   "metadata": {},
   "outputs": [
    {
     "data": {
      "text/plain": [
       "bool"
      ]
     },
     "execution_count": 13,
     "metadata": {},
     "output_type": "execute_result"
    }
   ],
   "source": [
    "# Python 中列表用中括号表示, 每个元素用逗号隔开\n",
    "name_ele = [\"Nil\", \"Era\", 1, True]\n",
    "type(name_ele[3])"
   ]
  },
  {
   "cell_type": "code",
   "execution_count": 15,
   "metadata": {},
   "outputs": [
    {
     "data": {
      "text/plain": [
       "(1, True, 'Nilera')"
      ]
     },
     "execution_count": 15,
     "metadata": {},
     "output_type": "execute_result"
    }
   ],
   "source": [
    "# Python中元组用小括号表示, 元组中的每个元素用逗号隔开\n",
    "a = (1, True, \"Nilera\")\n",
    "a"
   ]
  },
  {
   "cell_type": "code",
   "execution_count": 23,
   "metadata": {},
   "outputs": [
    {
     "data": {
      "text/plain": [
       "{1, 2}"
      ]
     },
     "execution_count": 23,
     "metadata": {},
     "output_type": "execute_result"
    }
   ],
   "source": [
    "# Python 中集合用大括号表示, 集合中的每个元素用逗号隔开\n",
    "a = {1, 2, 4}\n",
    "b = {1, 2, 2}\n",
    "\n",
    "type(a)\n",
    "b"
   ]
  },
  {
   "cell_type": "code",
   "execution_count": 24,
   "metadata": {},
   "outputs": [
    {
     "data": {
      "text/plain": [
       "dict"
      ]
     },
     "execution_count": 24,
     "metadata": {},
     "output_type": "execute_result"
    }
   ],
   "source": [
    "# Python中字典用大括号表示, 字典中的每个元素以一个键值对(key-value)\n",
    "# 每个元素之间用逗号隔开\n",
    "c = {\n",
    "    \"hello\" : 2,\n",
    "    \"world\" : 3\n",
    "}\n",
    "type(c)"
   ]
  },
  {
   "cell_type": "markdown",
   "metadata": {},
   "source": [
    "### 2. 复习类型转换\n",
    "在后面写代码的的时候, 我们会碰到这样的需求 : 将一种数据类型转换为另一种数据类型, 即将A类型转换为B类型"
   ]
  },
  {
   "cell_type": "code",
   "execution_count": 36,
   "metadata": {},
   "outputs": [
    {
     "name": "stdout",
     "output_type": "stream",
     "text": [
      "<class 'float'>\n",
      "<class 'int'>\n",
      "1\n",
      "- - - - - - - -\n",
      "<class 'str'>\n",
      "<class 'int'>\n",
      "1\n",
      "===============\n",
      "<class 'int'>\n",
      "<class 'float'>\n",
      "1.0\n",
      "- - - - - - - -\n",
      "<class 'str'>\n",
      "<class 'float'>\n",
      "1.0\n"
     ]
    }
   ],
   "source": [
    "# float, str 转换为 int, 转换方法为int(variable_name)\n",
    "a = 1.1\n",
    "print(type(a))\n",
    "a = int(a)\n",
    "print(type(a))\n",
    "print(a)\n",
    "\n",
    "print(\"- - - - - - - -\")\n",
    "\n",
    "b = \"1\"\n",
    "print(type(b))\n",
    "b = int(b)\n",
    "print(type(b))\n",
    "print(b)\n",
    "\n",
    "print(\"===============\")\n",
    "# int, str转换为float, 转换方法为 float(variable_name)\n",
    "c = 1\n",
    "print(type(c))\n",
    "c = float(c)\n",
    "print(type(c))\n",
    "print(c)\n",
    "\n",
    "print(\"- - - - - - - -\")\n",
    "d = \"1\"\n",
    "print(type(d))\n",
    "d = float(d)\n",
    "print(type(d))\n",
    "print(d)"
   ]
  },
  {
   "cell_type": "markdown",
   "metadata": {},
   "source": [
    "### 3. 复习运算符\n",
    "常见的整型、浮点型等对应非空集合, 常见的运算符对应二元运算, 如算术运算符、比较运算符、赋值运算符、逻辑运算符、成员运算符, 除此以外, 运算符的优先级也很重要\n",
    "\n",
    "运算符优先级指的是多种运算符同时出现的时候, 先计算哪个后计算哪个的先后顺序的分配, 先计算的是优先级高的, 后计算的是优先级低的, \n",
    "常见的运算优先级从高到低如下所示: 幂、算术运算符、比较运算符、赋值运算符、成员运算符和逻辑运算符\n",
    "\n",
    "记不住运算的优先级, 可以无脑加小括号, 保证计算可以按照你的想法去进行, 防止出现与你想法不符的计算顺序"
   ]
  },
  {
   "cell_type": "code",
   "execution_count": 38,
   "metadata": {},
   "outputs": [
    {
     "name": "stdout",
     "output_type": "stream",
     "text": [
      "4\n",
      "-2\n",
      "4.16\n",
      "2.0\n",
      "1\n",
      "9\n",
      "3\n"
     ]
    }
   ],
   "source": [
    "# 算术运算符\n",
    "# Python中常见的算术运算符包括加法、减法、乘法、除法、取模、幂、取整\n",
    "print(1 + 3)\n",
    "print(1 - 3)\n",
    "print(1.3 * 3.2)\n",
    "print(4.4 / 2.2)\n",
    "print(10 % 3)\n",
    "print(3**2)\n",
    "print(10 // 3)\n"
   ]
  },
  {
   "cell_type": "code",
   "execution_count": 39,
   "metadata": {},
   "outputs": [
    {
     "name": "stdout",
     "output_type": "stream",
     "text": [
      "False\n",
      "True\n",
      "False\n",
      "True\n",
      "False\n",
      "True\n"
     ]
    }
   ],
   "source": [
    "# 比较运算符\n",
    "# 比较运算符常见的有等于==、不等于!=、大于>、小于<、大于或等于>=、小于或等于<=\n",
    "print(1 == 3)\n",
    "print(1 != 3)\n",
    "print(1 > 3)\n",
    "print(1 < 3)\n",
    "print(1 >= 3)\n",
    "print(1 <= 3)\n"
   ]
  },
  {
   "cell_type": "code",
   "execution_count": 40,
   "metadata": {},
   "outputs": [
    {
     "data": {
      "text/plain": [
       "'nilera'"
      ]
     },
     "execution_count": 40,
     "metadata": {},
     "output_type": "execute_result"
    }
   ],
   "source": [
    "# 赋值运算符\n",
    "# 这里只介绍最简单的赋值运算符, 使用=进行简单的赋值\n",
    "name = \"nilera\"\n",
    "name\n"
   ]
  },
  {
   "cell_type": "code",
   "execution_count": 41,
   "metadata": {},
   "outputs": [
    {
     "data": {
      "text/plain": [
       "True"
      ]
     },
     "execution_count": 41,
     "metadata": {},
     "output_type": "execute_result"
    }
   ],
   "source": [
    "# 逻辑运算符\n",
    "# 逻辑运算符主要有and, or, not\n",
    "True and True\n",
    "True and False\n",
    "True or True\n",
    "True or False\n",
    "not True\n",
    "not False\n"
   ]
  },
  {
   "cell_type": "code",
   "execution_count": 42,
   "metadata": {},
   "outputs": [
    {
     "data": {
      "text/plain": [
       "True"
      ]
     },
     "execution_count": 42,
     "metadata": {},
     "output_type": "execute_result"
    }
   ],
   "source": [
    "# 成员运算符\n",
    "# 成员运算符主要有not in和in\n",
    "# A in B表示某个元素在 B 中, 如果在, 返回 true, 否则返回 false\n",
    "name = [\"nilera\", \"nilEra\"]\n",
    "\"nilera\" in name\n",
    "\"nilera\" not in name\n",
    "\"nie\" in name\n",
    "\"nil\" not in name"
   ]
  },
  {
   "cell_type": "markdown",
   "metadata": {},
   "source": [
    "## 字符串"
   ]
  },
  {
   "cell_type": "markdown",
   "metadata": {},
   "source": [
    "### 1. 访问字符串\n",
    "访问字符串的时候，常常会访问字符串某个位置或者字符串的子集(回想下数学中子集的概念)\n",
    "- 某个位置的索引：\n",
    "  `variable_name[idx]`\n",
    "- 字符串子集的索引：\n",
    "  `variable_name[索引开始: 索引结束+1]`"
   ]
  },
  {
   "cell_type": "code",
   "execution_count": 44,
   "metadata": {},
   "outputs": [
    {
     "data": {
      "text/plain": [
       "'love '"
      ]
     },
     "execution_count": 44,
     "metadata": {},
     "output_type": "execute_result"
    }
   ],
   "source": [
    "word = \"I love u\"\n",
    "word[2:7]"
   ]
  },
  {
   "cell_type": "markdown",
   "metadata": {},
   "source": [
    "### 2. 字符串拼接"
   ]
  },
  {
   "cell_type": "code",
   "execution_count": 51,
   "metadata": {},
   "outputs": [
    {
     "data": {
      "text/plain": [
       "'h-e-l-l-o'"
      ]
     },
     "execution_count": 51,
     "metadata": {},
     "output_type": "execute_result"
    }
   ],
   "source": [
    "# 可以直接用 + 运算符进行拼接\n",
    "\"nilera\" + \"nilera\"\n",
    "\n",
    "# 或者是可以用 .join() 方法\n",
    "# a.join(b) 表示将 b 中的每个元素之间用 a 连接起来\n",
    "# 下面代码中, a 即是 \"-\", b 则是 name\n",
    "name = [\"nil\", \"era\"]\n",
    "\"-\".join(name)\n",
    "\"-\".join(\"hello\")"
   ]
  },
  {
   "cell_type": "markdown",
   "metadata": {},
   "source": [
    "### 3. 转义字符"
   ]
  },
  {
   "cell_type": "code",
   "execution_count": 54,
   "metadata": {},
   "outputs": [
    {
     "data": {
      "text/plain": [
       "'My name is \"NilEra\"'"
      ]
     },
     "execution_count": 54,
     "metadata": {},
     "output_type": "execute_result"
    }
   ],
   "source": [
    "# \\' (转义为原始单引号)\n",
    "# \\n (转义为换行符)\n",
    "# \\t (转义为横向制表符)\n",
    "\"My name is \\\"NilEra\\\"\"\n"
   ]
  },
  {
   "cell_type": "markdown",
   "metadata": {},
   "source": [
    "### 4. 常用的字符串内置方法\n",
    "\n",
    "| 方法名 | 说明 | 示例 |\n",
    "| :-: | :-: | :-: |\n",
    "| `len()` | 用来获取字符串的长度 | `len(a)` |\n",
    "| `string.isalnum()` | isalnum 是 is alpha or number的简写, 判断是否全为字母或数字 | `\"nilera\".isalnum()` |\n",
    "| `string.isalpha()` | 判断字符串是否全字母 | `\"nilera\".isalpha()` |\n",
    "| `string.isnum()` | 判断字符串是否全数字 | `\"nilera\".isnum()` |\n",
    "| `string.islower()` | 判断字符串是否全小写 | `\"nilera\".islower()` |\n",
    "| `string.isupper()` | 判断字符串是否全大写 | `\"nilera\".islower()` |\n",
    "| `string.startwith()` | 判断字符串是否以某个字符开头 | `\"nilera\".startswith(\"nil\")` |\n",
    "| `string.endwith()` | 判断字符串是否以某个字符结束 | `\"nilera\".endwith(\"era\")` |\n",
    "| `string.capitalize()` | 将字符串首字母变成大写 | `\"nilera\".capitalize()` |\n",
    "| `string.title()` | 将字符串首字母变成大写, `capitalize()`方法只有第一个单词的字母大写, 而`title()`会将每个单词大写 | `\"nilera\".capitalize()` |\n",
    "| `string.upper()` | 将字符串字母变成大写 | `\"nilera\".upper()` |\n",
    "| `string.lower()` | 将字符串字母变成小写 | `\"nilera\".lower()` |\n",
    "| `string.swapcase()` | 将字符串大小写字母翻转 | `\"nilERA\".swapcase()` |\n",
    "| `string.lstrip()` | 删去字符串左边空格 | `\"    nilera  \".lstrip()` |\n",
    "| `string.rstrip()` | 删去字符串右边空格 | `\"    nilera  \".rstrip()` |\n",
    "| `string.strip()` | 字符串去掉两边空格 | `\"    nilera  \".strip()` |\n",
    "| `string.split(str, split_num)` | 字符串分割方法, 通过指定分隔符对字符串进行分割, 也可以指定分割为几个子字符串 | `\"nil.era\".split(\".\", 2)` 小括号里面有个数字, 可以理解为分割的次数 |\n",
    "| `string.zfill(width)` | 如果string的长度大于等于width, 那么返回string本身; 如果string长度小于width, 这个方法会返回指定长度width的字符串, 并且前面填充为 0 | `\"cvtutorials\".zfill(20)` |\n",
    "| `string.find(sub_string)` | 从string中找到 `sub_string` 的开始的索引 | `\"nilera\".find(\"ler\")` |\n",
    "| `string.index()` | 返回子字符串的开始索引 | `\"nilera\".index(\"nilera\")` |\n",
    "| `string.count()` | 返回某个字符串出现的此时 | `\"nilera\".count(\"i\")` |\n"
   ]
  },
  {
   "cell_type": "code",
   "execution_count": 60,
   "metadata": {},
   "outputs": [
    {
     "data": {
      "text/plain": [
       "0"
      ]
     },
     "execution_count": 60,
     "metadata": {},
     "output_type": "execute_result"
    }
   ],
   "source": [
    "\"cvtutorials\".count(\"0\")\n"
   ]
  },
  {
   "cell_type": "markdown",
   "metadata": {},
   "source": [
    "## 列表\n",
    "\n",
    "Python语言中, 列表(list)是个很重要的概念\n",
    "\n",
    "列表能够将多个元素组合起来(组合是一种很重要的创新方式), 每个元素用逗号隔开, 可以对这些元素做统一的处理"
   ]
  },
  {
   "cell_type": "markdown",
   "metadata": {},
   "source": [
    "### 1. 访问列表元素"
   ]
  },
  {
   "cell_type": "code",
   "execution_count": 67,
   "metadata": {},
   "outputs": [
    {
     "name": "stdout",
     "output_type": "stream",
     "text": [
      "nilera nilERA BOY\n",
      "['H', 'e', 'l', 'l', 'o', ' ', 'n', 'i', 'l', 'e', 'r', 'a']\n",
      "Hello nilera\n"
     ]
    }
   ],
   "source": [
    "a = [\"nilera\", \"nilERA\", \"BOY\"]\n",
    "print(a[0], a[1], a[2])\n",
    "\n",
    "b = list(\"Hello nilera\")\n",
    "print(b)\n",
    "\n",
    "c = \"\".join(b[0:])\n",
    "print(c)\n"
   ]
  },
  {
   "cell_type": "markdown",
   "metadata": {},
   "source": [
    "### 2. 修改列表元素"
   ]
  },
  {
   "cell_type": "code",
   "execution_count": 72,
   "metadata": {},
   "outputs": [
    {
     "name": "stdout",
     "output_type": "stream",
     "text": [
      "['N', 'i', 'l', 'e', 'r', 'a']\n",
      "['hel', 'lo', 1, 2, 5, 6, 7, 8]\n"
     ]
    }
   ],
   "source": [
    "name = [\"n\", \"i\", \"l\", \"e\", \"r\", \"a\"]\n",
    "name[0] = \"N\"\n",
    "print(name)\n",
    "\n",
    "a = [\"hel\", \"lo\", 10, 4, 5, 6, 7, 8]\n",
    "a[2:4] = [1, 2]\n",
    "print(a)\n"
   ]
  },
  {
   "cell_type": "markdown",
   "metadata": {},
   "source": [
    "### 3. 添加列表元素"
   ]
  },
  {
   "cell_type": "code",
   "execution_count": 76,
   "metadata": {},
   "outputs": [
    {
     "name": "stdout",
     "output_type": "stream",
     "text": [
      "['nil', 'era']\n",
      "['+', 'hello', 'nilera']\n",
      "['+', 'hello', 'nilera', 1, 2, 3]\n"
     ]
    }
   ],
   "source": [
    "name = []\n",
    "name.append(\"nil\")\n",
    "name.append(\"era\")\n",
    "print(name)\n",
    "\n",
    "name = ['hello', 'nilera']\n",
    "name.insert(0, \"+\")\n",
    "print(name)\n",
    "\n",
    "numbers = [1, 2, 3]\n",
    "name.extend(numbers)\n",
    "print(name)\n"
   ]
  },
  {
   "cell_type": "markdown",
   "metadata": {},
   "source": [
    "### 4. 删除列表元素"
   ]
  },
  {
   "cell_type": "code",
   "execution_count": 85,
   "metadata": {},
   "outputs": [
    {
     "name": "stdout",
     "output_type": "stream",
     "text": [
      "['nil', 1, 2, 3]\n",
      "['nil', 1, 3]\n",
      "[]\n"
     ]
    }
   ],
   "source": [
    "name = [\"nilera\", \"nil\", 1, 2, 3]\n",
    "name.pop(0)\n",
    "print(name)\n",
    "\n",
    "name.remove(2)\n",
    "print(name)\n",
    "\n",
    "name.clear()\n",
    "print(name)\n"
   ]
  },
  {
   "cell_type": "markdown",
   "metadata": {},
   "source": [
    "### 5. 常用列表内置方法\n",
    "\n",
    "| 方法名 | 说明 | 示例 |\n",
    "| :-: | :-: | :-: |\n",
    "| `count()` | 统计某个元素在列表中出现的次数 | `list.count(\"str\")` 或 `list.count(1)` 等 |\n",
    "| `index()` | `index()` 是给出某个元素, 寻找元素在列表中第一次出现的索引, 如果找不到元素, 就会报错 | `list.index(3)` |\n",
    "| `sort()` | 通过这个方法我们可以将列表中元素按照从小到达排列 | `list.sort()` |\n",
    "| `copy()` | 将列表复制一份 | `name_copy = name.copy()` |\n"
   ]
  },
  {
   "cell_type": "markdown",
   "metadata": {},
   "source": [
    "## 字典\n",
    "字典是 Python 中一种常用的数据结构, 存放的是两组数据及映射关系, 类似于数学中映射关系中的单映射\n",
    "\n",
    "字典的两组数据, 一组称为key(键), 一组数据称为value(值), 键和值组成一对, 用冒号表示对应, 即 key: value, 每个 key:value 是字典中的一个元素，元素和元素之间用逗号隔开, 例如:\n",
    "\n",
    "``` python\n",
    "my_dict = {key1:value1, key2:value2, key3:value3}\n",
    "```\n",
    "字典中的元素没有先后次序之分"
   ]
  },
  {
   "cell_type": "markdown",
   "metadata": {},
   "source": [
    "### 1. 字典的创建\n",
    "字典常见的常见的创建方式有两种 : 直接赋值创建 和 使用 dict 创建"
   ]
  },
  {
   "cell_type": "code",
   "execution_count": 89,
   "metadata": {},
   "outputs": [
    {
     "name": "stdout",
     "output_type": "stream",
     "text": [
      "{'name': 'nilera', 'age': '20'}\n",
      "{'name': 'nilera', 'age': 20}\n"
     ]
    }
   ],
   "source": [
    "# 直接复制创建\n",
    "whoami = {\n",
    "    \"name\" : \"nilera\",\n",
    "    \"age\" : \"20\"\n",
    "}\n",
    "print(whoami)\n",
    "\n",
    "# 使用 dict 创建\n",
    "whoami = dict(name=\"nilera\", age=20)\n",
    "print(whoami)\n"
   ]
  },
  {
   "cell_type": "markdown",
   "metadata": {},
   "source": [
    "### 2. 访问字典\n",
    "访问字典需要用到字典名和索引(字典中的索引是key)"
   ]
  },
  {
   "cell_type": "code",
   "execution_count": 96,
   "metadata": {},
   "outputs": [
    {
     "name": "stdout",
     "output_type": "stream",
     "text": [
      "nilera\n",
      "20\n",
      "nilera\n",
      "{'name': 'nilera', 'age': '20'}\n",
      "{'name': 'nilera', 'age': '20', 'sex': None}\n"
     ]
    }
   ],
   "source": [
    "whoami = dict(name=\"nilera\", age=20)\n",
    "print(whoami[\"name\"])\n",
    "print(whoami[\"age\"])\n",
    "\n",
    "# dict.get(key) 方法和 dict[key]的最大不同点 : 在键不存在时, 前者不会报错, 后者会报错\n",
    "whoami = dict(name=\"nilera\", age=20)\n",
    "whoami.get(\"name\")\n",
    "whoami.get(\"name\")\n",
    "\n",
    "# dict.setdefault(key, default=None) 如果键不存在, 那么会添加键并将值设为 default\n",
    "whoami = {\n",
    "    \"name\" : \"nilera\",\n",
    "    \"age\" : \"20\"\n",
    "}\n",
    "print(whoami.setdefault(\"name\"))\n",
    "\n",
    "print(whoami)\n",
    "\n",
    "whoami.setdefault(\"sex\")\n",
    "print(whoami)\n"
   ]
  },
  {
   "cell_type": "markdown",
   "metadata": {},
   "source": [
    "### 3. 字典的遍历\n"
   ]
  },
  {
   "cell_type": "code",
   "execution_count": 97,
   "metadata": {},
   "outputs": [
    {
     "name": "stdout",
     "output_type": "stream",
     "text": [
      "dict_items([('name', 'nilera'), ('age', '20')])\n",
      "dict_keys(['name', 'age'])\n",
      "dict_values(['nilera', '20'])\n"
     ]
    }
   ],
   "source": [
    "# dict.items : 访问字典的所有键值对, 并返回可迭代对象(方便后面章节中的循环进行遍历)\n",
    "whoami = {\n",
    "    \"name\" : \"nilera\",\n",
    "    \"age\" : \"20\"\n",
    "}\n",
    "print(whoami.items())\n",
    "\n",
    "# dict.keys : 访问字典中的所有键, 并返回可迭代对象\n",
    "print(whoami.keys())\n",
    "\n",
    "# dict.values：访问字典中的所有值，并返回可迭代对象，举个例子：\n",
    "print(whoami.values())\n"
   ]
  },
  {
   "cell_type": "markdown",
   "metadata": {},
   "source": [
    "### 4. 修改字典和添加键-值对\n"
   ]
  },
  {
   "cell_type": "code",
   "execution_count": 98,
   "metadata": {},
   "outputs": [
    {
     "name": "stdout",
     "output_type": "stream",
     "text": [
      "{'name': 'nilera', 'age': '20', 'sex': '男'}\n",
      "{'name': 'nilera', 'age': '20', 'sex': '男', 'lover': 'you'}\n"
     ]
    }
   ],
   "source": [
    "whoami = {\n",
    "    \"name\" : \"nilera\",\n",
    "    \"age\" : \"20\",\n",
    "    \"sex\" : \"boy\"\n",
    "}\n",
    "\n",
    "whoami[\"sex\"] = \"男\"\n",
    "print(whoami)\n",
    "\n",
    "whoami[\"lover\"] = \"you\"\n",
    "print(whoami)"
   ]
  },
  {
   "cell_type": "code",
   "execution_count": 100,
   "metadata": {},
   "outputs": [
    {
     "data": {
      "text/plain": [
       "{'1': 'one', '2': 'two', '3': 'three', '4': 'four'}"
      ]
     },
     "execution_count": 100,
     "metadata": {},
     "output_type": "execute_result"
    }
   ],
   "source": [
    "# dict1.update(dict2) : 将一个字典 dict2 中的所有键值对添加到另一个字典 dict1 中\n",
    "dict1 = {\"1\":\"one\", \"2\":\"two\"}\n",
    "dict2 = {\"3\":\"three\", \"4\":\"four\"}\n",
    "dict1.update(dict2)\n",
    "dict1"
   ]
  },
  {
   "cell_type": "markdown",
   "metadata": {},
   "source": [
    "### 5. 删除键-值对\n",
    "我们使用 del 对某个键-值对进行删除, 标准形式为:\n",
    "```python\n",
    "del 字典名[键]\n",
    "```"
   ]
  },
  {
   "cell_type": "code",
   "execution_count": 102,
   "metadata": {},
   "outputs": [
    {
     "name": "stdout",
     "output_type": "stream",
     "text": [
      "{'name': 'nilera', 'sex': 'boy'}\n",
      "{}\n"
     ]
    }
   ],
   "source": [
    "whoami = {\n",
    "    \"name\" : \"nilera\",\n",
    "    \"age\" : \"20\",\n",
    "    \"sex\" : \"boy\"\n",
    "}\n",
    "del whoami[\"age\"]\n",
    "print(whoami)\n",
    "\n",
    "whoami = {\n",
    "    \"name\" : \"nilera\",\n",
    "    \"age\" : \"20\",\n",
    "    \"sex\" : \"boy\"\n",
    "}\n",
    "whoami.clear()\n",
    "print(whoami)\n",
    "\n"
   ]
  },
  {
   "cell_type": "markdown",
   "metadata": {},
   "source": [
    "### 6. 其他字典方法\n",
    "| 方法名 | 说明 | 示例 |\n",
    "| :-: | :-: | :-: |\n",
    "| `len()` | 计算字典的长度, 也就是字典中键的数目 | `len(dict)` |\n",
    "| `dict.copy()` | 将字典复制一份 | `dict1 = dict2.copy()` |\n"
   ]
  },
  {
   "cell_type": "markdown",
   "metadata": {},
   "source": [
    "## 流程控制\n",
    "顺序语句、条件语句和循环语句是三大最基本的语句"
   ]
  },
  {
   "cell_type": "markdown",
   "metadata": {},
   "source": [
    "### 1. if 语句\n",
    "if 语句可以根据不同的条件运行不同的代码, 能让程序更加灵活处理不同的情况\n",
    "\n",
    "if语句有几个基本的要素 : 条件、冒号、缩进和 else\n",
    "\n",
    "if语句的基本用法如下:\n",
    "```python\n",
    "if condition: \n",
    "    do something \n",
    "else:\n",
    "    do other things\n",
    "```\n"
   ]
  },
  {
   "cell_type": "code",
   "execution_count": 103,
   "metadata": {},
   "outputs": [
    {
     "name": "stdout",
     "output_type": "stream",
     "text": [
      "-10\n"
     ]
    }
   ],
   "source": [
    "a = 0\n",
    "if a == 10:\n",
    "    print(a)\n",
    "else:\n",
    "    print(a-10)"
   ]
  },
  {
   "cell_type": "markdown",
   "metadata": {},
   "source": [
    "### 2. 循环语句"
   ]
  },
  {
   "cell_type": "code",
   "execution_count": 107,
   "metadata": {},
   "outputs": [
    {
     "name": "stdout",
     "output_type": "stream",
     "text": [
      "zhangsan\n",
      "lisi\n",
      "wangwu\n",
      "zhangsan\n",
      "lisi\n",
      "wangwu\n"
     ]
    }
   ],
   "source": [
    "# for循环\n",
    "# for iter in sequence:\n",
    "#     do something\n",
    "\n",
    "names = [\"zhangsan\", \"lisi\", \"wangwu\"]\n",
    "for name in names:\n",
    "    print(name)\n",
    "\n",
    "i = 0\n",
    "while i < 3:\n",
    "    print(names[i])\n",
    "    i += 1"
   ]
  },
  {
   "cell_type": "markdown",
   "metadata": {},
   "source": [
    "### 3. 跳转语句\n",
    "常见的跳转语句包括continue、break : continue表示跳出本次循环, 进入下一次循环, break表示跳出这个循环体"
   ]
  },
  {
   "cell_type": "markdown",
   "metadata": {},
   "source": [
    "## 函数和类"
   ]
  }
 ],
 "metadata": {
  "kernelspec": {
   "display_name": "Python 3",
   "language": "python",
   "name": "python3"
  },
  "language_info": {
   "codemirror_mode": {
    "name": "ipython",
    "version": 3
   },
   "file_extension": ".py",
   "mimetype": "text/x-python",
   "name": "python",
   "nbconvert_exporter": "python",
   "pygments_lexer": "ipython3",
   "version": "3.11.5"
  },
  "orig_nbformat": 4
 },
 "nbformat": 4,
 "nbformat_minor": 2
}
